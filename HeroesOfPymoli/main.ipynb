{
 "cells": [
  {
   "cell_type": "markdown",
   "metadata": {},
   "source": [
   ]
  },
  {
   "cell_type": "code",
   "execution_count": 1,
   "metadata": {},
   "outputs": [],
   "source": [
    "# Dependencies and Setup\n",
    "import pandas as pd\n",
    "\n",
    "# File to Load (Remember to Change These)\n",
    "file_to_load = \"Resources/purchase_data.csv\"\n",
    "\n",
    "# Read Purchasing File and store into Pandas data frame\n",
    "purchase_data = pd.read_csv(file_to_load)"
   ]
  },
  {
   "cell_type": "markdown",
   "metadata": {},
   "source": [
    "## Player Count"
   ]
  },
  {
   "cell_type": "markdown",
   "metadata": {},
   "source": [
    "* Display the total number of players\n"
   ]
  },
  {
   "cell_type": "code",
   "execution_count": 2,
   "metadata": {},
   "outputs": [
    {
     "data": {
      "text/html": [
       "<div>\n",
       "<style scoped>\n",
       "    .dataframe tbody tr th:only-of-type {\n",
       "        vertical-align: middle;\n",
       "    }\n",
       "\n",
       "    .dataframe tbody tr th {\n",
       "        vertical-align: top;\n",
       "    }\n",
       "\n",
       "    .dataframe thead th {\n",
       "        text-align: right;\n",
       "    }\n",
       "</style>\n",
       "<table border=\"1\" class=\"dataframe\">\n",
       "  <thead>\n",
       "    <tr style=\"text-align: right;\">\n",
       "      <th></th>\n",
       "      <th>Total Players</th>\n",
       "    </tr>\n",
       "  </thead>\n",
       "  <tbody>\n",
       "    <tr>\n",
       "      <th>0</th>\n",
       "      <td>576</td>\n",
       "    </tr>\n",
       "  </tbody>\n",
       "</table>\n",
       "</div>"
      ],
      "text/plain": [
       "   Total Players\n",
       "0            576"
      ]
     },
     "execution_count": 2,
     "metadata": {},
     "output_type": "execute_result"
    }
   ],
   "source": [
    "#create a one column dataframe for the number of players\n",
    "total_players = pd.DataFrame(\n",
    "                    # counts the unique screen names in the DF \n",
    "    {'Total Players' : [len(purchase_data['SN'].unique())]}\n",
    ")\n",
    "total_players.head()\n"
   ]
  },
  {
   "cell_type": "markdown",
   "metadata": {},
   "source": [
    "## Purchasing Analysis (Total)"
   ]
  },
  {
   "cell_type": "markdown",
   "metadata": {},
   "source": [
    "* Run basic calculations to obtain number of unique items, average price, etc.\n",
    "\n",
    "\n",
    "* Create a summary data frame to hold the results\n",
    "\n",
    "\n",
    "* Optional: give the displayed data cleaner formatting\n",
    "\n",
    "\n",
    "* Display the summary data frame\n"
   ]
  },
  {
   "cell_type": "code",
   "execution_count": 3,
   "metadata": {
    "scrolled": true
   },
   "outputs": [
    {
     "data": {
      "text/html": [
       "<div>\n",
       "<style scoped>\n",
       "    .dataframe tbody tr th:only-of-type {\n",
       "        vertical-align: middle;\n",
       "    }\n",
       "\n",
       "    .dataframe tbody tr th {\n",
       "        vertical-align: top;\n",
       "    }\n",
       "\n",
       "    .dataframe thead th {\n",
       "        text-align: right;\n",
       "    }\n",
       "</style>\n",
       "<table border=\"1\" class=\"dataframe\">\n",
       "  <thead>\n",
       "    <tr style=\"text-align: right;\">\n",
       "      <th></th>\n",
       "      <th>Number of Unique Items</th>\n",
       "      <th>Average Purchase Price</th>\n",
       "      <th>Total Purchases</th>\n",
       "      <th>Total Revenue</th>\n",
       "    </tr>\n",
       "  </thead>\n",
       "  <tbody>\n",
       "    <tr>\n",
       "      <th>0</th>\n",
       "      <td>179</td>\n",
       "      <td>3.05</td>\n",
       "      <td>780</td>\n",
       "      <td>2379.77</td>\n",
       "    </tr>\n",
       "  </tbody>\n",
       "</table>\n",
       "</div>"
      ],
      "text/plain": [
       "   Number of Unique Items  Average Purchase Price  Total Purchases  \\\n",
       "0                     179                    3.05              780   \n",
       "\n",
       "   Total Revenue  \n",
       "0        2379.77  "
      ]
     },
     "execution_count": 3,
     "metadata": {},
     "output_type": "execute_result"
    }
   ],
   "source": [
    "#create a list with all unique purchases and then get the length\n",
    "unique_items = len(purchase_data['Item ID'].unique())\n",
    "#find number of total purchases\n",
    "num_purchases = len(purchase_data['Price'])\n",
    "#get total revenue\n",
    "sum_purchases = purchase_data['Price'].sum()\n",
    "# get average purchase price \n",
    "avg_price = sum_purchases / num_purchases\n",
    "\n",
    "# summary data frame\n",
    "purchase_analysis = pd.DataFrame(\n",
    "    {\n",
    "        'Number of Unique Items' : [unique_items],\n",
    "        'Average Purchase Price' : [round(avg_price, 2)],\n",
    "        'Total Purchases' : [num_purchases],\n",
    "        'Total Revenue' : [round(sum_purchases, 2)]\n",
    "    }\n",
    ")\n",
    "\n",
    "purchase_analysis.head()"
   ]
  },
  {
   "cell_type": "markdown",
   "metadata": {},
   "source": [
    "## Gender Demographics"
   ]
  },
  {
   "cell_type": "markdown",
   "metadata": {},
   "source": [
    "* Percentage and Count of Male Players\n",
    "\n",
    "\n",
    "* Percentage and Count of Female Players\n",
    "\n",
    "\n",
    "* Percentage and Count of Other / Non-Disclosed\n",
    "\n",
    "\n"
   ]
  },
  {
   "cell_type": "code",
   "execution_count": 4,
   "metadata": {},
   "outputs": [
    {
     "data": {
      "text/html": [
       "<style  type=\"text/css\" >\n",
       "</style><table id=\"T_6f17e784_7d47_11eb_af15_6245b5060600\" ><thead>    <tr>        <th class=\"blank level0\" ></th>        <th class=\"col_heading level0 col0\" >Total Count</th>        <th class=\"col_heading level0 col1\" >Percentage of Players</th>    </tr></thead><tbody>\n",
       "                <tr>\n",
       "                        <th id=\"T_6f17e784_7d47_11eb_af15_6245b5060600level0_row0\" class=\"row_heading level0 row0\" >Male</th>\n",
       "                        <td id=\"T_6f17e784_7d47_11eb_af15_6245b5060600row0_col0\" class=\"data row0 col0\" >484</td>\n",
       "                        <td id=\"T_6f17e784_7d47_11eb_af15_6245b5060600row0_col1\" class=\"data row0 col1\" >84.03%</td>\n",
       "            </tr>\n",
       "            <tr>\n",
       "                        <th id=\"T_6f17e784_7d47_11eb_af15_6245b5060600level0_row1\" class=\"row_heading level0 row1\" >Female</th>\n",
       "                        <td id=\"T_6f17e784_7d47_11eb_af15_6245b5060600row1_col0\" class=\"data row1 col0\" >81</td>\n",
       "                        <td id=\"T_6f17e784_7d47_11eb_af15_6245b5060600row1_col1\" class=\"data row1 col1\" >14.06%</td>\n",
       "            </tr>\n",
       "            <tr>\n",
       "                        <th id=\"T_6f17e784_7d47_11eb_af15_6245b5060600level0_row2\" class=\"row_heading level0 row2\" >Other / Non-Disclosed</th>\n",
       "                        <td id=\"T_6f17e784_7d47_11eb_af15_6245b5060600row2_col0\" class=\"data row2 col0\" >11</td>\n",
       "                        <td id=\"T_6f17e784_7d47_11eb_af15_6245b5060600row2_col1\" class=\"data row2 col1\" >1.91%</td>\n",
       "            </tr>\n",
       "    </tbody></table>"
      ],
      "text/plain": [
       "<pandas.io.formats.style.Styler at 0x1f021300940>"
      ]
     },
     "execution_count": 4,
     "metadata": {},
     "output_type": "execute_result"
    }
   ],
   "source": [
    "# drops duplicate screen names resulting in a DF of unique players and their purchases\n",
    "player_df = purchase_data.drop_duplicates('SN')\n",
    "#finds list of all unique genders\n",
    "genders = player_df['Gender'].value_counts()\n",
    "#finds the distribution percentage\n",
    "genders_perc = player_df['Gender'].value_counts(normalize=True)\n",
    "#create summary data frame\n",
    "gender_summary = pd.DataFrame(genders)\n",
    "#add new column with percentages\n",
    "gender_summary['Percentage of Players'] = genders_perc\n",
    "#rename column header\n",
    "gender_summary.rename(columns={'Gender':'Total Count'}, inplace=True)\n",
    "#format percentages\n",
    "gender_summary.style.format({\n",
    "    'Percentage of Players': '{:,.2%}'\n",
    "})"
   ]
  },
  {
   "cell_type": "markdown",
   "metadata": {},
   "source": [
    "\n",
    "## Purchasing Analysis (Gender)"
   ]
  },
  {
   "cell_type": "markdown",
   "metadata": {},
   "source": [
    "* Run basic calculations to obtain purchase count, avg. purchase price, avg. purchase total per person etc. by gender\n",
    "\n",
    "\n",
    "\n",
    "\n",
    "* Create a summary data frame to hold the results\n",
    "\n",
    "\n",
    "* Optional: give the displayed data cleaner formatting\n",
    "\n",
    "\n",
    "* Display the summary data frame"
   ]
  },
  {
   "cell_type": "code",
   "execution_count": 5,
   "metadata": {},
   "outputs": [
    {
     "data": {
      "text/html": [
       "<style  type=\"text/css\" >\n",
       "</style><table id=\"T_6f19bc60_7d47_11eb_ac4c_6245b5060600\" ><thead>    <tr>        <th class=\"blank level0\" ></th>        <th class=\"col_heading level0 col0\" >Purchase Count</th>        <th class=\"col_heading level0 col1\" >Average Purchase Price</th>        <th class=\"col_heading level0 col2\" >Total Purchase Value</th>        <th class=\"col_heading level0 col3\" >Avg Total Purchase per Person</th>    </tr>    <tr>        <th class=\"index_name level0\" >Gender</th>        <th class=\"blank\" ></th>        <th class=\"blank\" ></th>        <th class=\"blank\" ></th>        <th class=\"blank\" ></th>    </tr></thead><tbody>\n",
       "                <tr>\n",
       "                        <th id=\"T_6f19bc60_7d47_11eb_ac4c_6245b5060600level0_row0\" class=\"row_heading level0 row0\" >Female</th>\n",
       "                        <td id=\"T_6f19bc60_7d47_11eb_ac4c_6245b5060600row0_col0\" class=\"data row0 col0\" >113</td>\n",
       "                        <td id=\"T_6f19bc60_7d47_11eb_ac4c_6245b5060600row0_col1\" class=\"data row0 col1\" >$3.20</td>\n",
       "                        <td id=\"T_6f19bc60_7d47_11eb_ac4c_6245b5060600row0_col2\" class=\"data row0 col2\" >$361.94</td>\n",
       "                        <td id=\"T_6f19bc60_7d47_11eb_ac4c_6245b5060600row0_col3\" class=\"data row0 col3\" >$4.47</td>\n",
       "            </tr>\n",
       "            <tr>\n",
       "                        <th id=\"T_6f19bc60_7d47_11eb_ac4c_6245b5060600level0_row1\" class=\"row_heading level0 row1\" >Male</th>\n",
       "                        <td id=\"T_6f19bc60_7d47_11eb_ac4c_6245b5060600row1_col0\" class=\"data row1 col0\" >652</td>\n",
       "                        <td id=\"T_6f19bc60_7d47_11eb_ac4c_6245b5060600row1_col1\" class=\"data row1 col1\" >$3.02</td>\n",
       "                        <td id=\"T_6f19bc60_7d47_11eb_ac4c_6245b5060600row1_col2\" class=\"data row1 col2\" >$1,967.64</td>\n",
       "                        <td id=\"T_6f19bc60_7d47_11eb_ac4c_6245b5060600row1_col3\" class=\"data row1 col3\" >$4.07</td>\n",
       "            </tr>\n",
       "            <tr>\n",
       "                        <th id=\"T_6f19bc60_7d47_11eb_ac4c_6245b5060600level0_row2\" class=\"row_heading level0 row2\" >Other / Non-Disclosed</th>\n",
       "                        <td id=\"T_6f19bc60_7d47_11eb_ac4c_6245b5060600row2_col0\" class=\"data row2 col0\" >15</td>\n",
       "                        <td id=\"T_6f19bc60_7d47_11eb_ac4c_6245b5060600row2_col1\" class=\"data row2 col1\" >$3.35</td>\n",
       "                        <td id=\"T_6f19bc60_7d47_11eb_ac4c_6245b5060600row2_col2\" class=\"data row2 col2\" >$50.19</td>\n",
       "                        <td id=\"T_6f19bc60_7d47_11eb_ac4c_6245b5060600row2_col3\" class=\"data row2 col3\" >$4.56</td>\n",
       "            </tr>\n",
       "    </tbody></table>"
      ],
      "text/plain": [
       "<pandas.io.formats.style.Styler at 0x1f01f24f430>"
      ]
     },
     "execution_count": 5,
     "metadata": {},
     "output_type": "execute_result"
    }
   ],
   "source": [
    "#group purchases by gender\n",
    "gender_df = purchase_data.groupby('Gender')\n",
    "#count total purchases per gender\n",
    "purchase_count = gender_df['Purchase ID'].count()\n",
    "#find avergae purchase price per gender\n",
    "avg_price = gender_df['Price'].mean()\n",
    "#find total purchase value per gender\n",
    "total_value = gender_df['Price'].sum()\n",
    "#find average total purchase per person per gender\n",
    "avg_per = total_value/genders\n",
    "\n",
    "#put all stats into summary dataframe\n",
    "purchase_analysis_gender = pd.DataFrame({\n",
    "    'Purchase Count': purchase_count,\n",
    "    'Average Purchase Price' : avg_price,\n",
    "    'Total Purchase Value' : total_value,\n",
    "    'Avg Total Purchase per Person': avg_per\n",
    "})\n",
    "\n",
    "purchase_analysis_gender.style.format({\n",
    "    \"Average Purchase Price\":\"${:,.2f}\",\n",
    "    \"Total Purchase Value\":\"${:,.2f}\",\n",
    "    \"Avg Total Purchase per Person\":\"${:,.2f}\"\n",
    "})\n",
    "\n"
   ]
  },
  {
   "cell_type": "markdown",
   "metadata": {},
   "source": [
    "## Age Demographics"
   ]
  },
  {
   "cell_type": "markdown",
   "metadata": {},
   "source": [
    "* Establish bins for ages\n",
    "\n",
    "\n",
    "* Categorize the existing players using the age bins. Hint: use pd.cut()\n",
    "\n",
    "\n",
    "* Calculate the numbers and percentages by age group\n",
    "\n",
    "\n",
    "* Create a summary data frame to hold the results\n",
    "\n",
    "\n",
    "* Optional: round the percentage column to two decimal points\n",
    "\n",
    "\n",
    "* Display Age Demographics Table\n"
   ]
  },
  {
   "cell_type": "code",
   "execution_count": 16,
   "metadata": {},
   "outputs": [
    {
     "name": "stderr",
     "output_type": "stream",
     "text": [
      "<ipython-input-16-ef379b089c7e>:8: SettingWithCopyWarning: \n",
      "A value is trying to be set on a copy of a slice from a DataFrame.\n",
      "Try using .loc[row_indexer,col_indexer] = value instead\n",
      "\n",
      "See the caveats in the documentation: https://pandas.pydata.org/pandas-docs/stable/user_guide/indexing.html#returning-a-view-versus-a-copy\n",
      "  player_df['Age Group'] = age_sliced\n"
     ]
    },
    {
     "data": {
      "text/html": [
       "<style  type=\"text/css\" >\n",
       "</style><table id=\"T_f29e9128_7d47_11eb_9aab_6245b5060600\" ><thead>    <tr>        <th class=\"blank level0\" ></th>        <th class=\"col_heading level0 col0\" >Total Count</th>        <th class=\"col_heading level0 col1\" >Percentage of Players</th>    </tr>    <tr>        <th class=\"index_name level0\" >Age Group</th>        <th class=\"blank\" ></th>        <th class=\"blank\" ></th>    </tr></thead><tbody>\n",
       "                <tr>\n",
       "                        <th id=\"T_f29e9128_7d47_11eb_9aab_6245b5060600level0_row0\" class=\"row_heading level0 row0\" ><10</th>\n",
       "                        <td id=\"T_f29e9128_7d47_11eb_9aab_6245b5060600row0_col0\" class=\"data row0 col0\" >17</td>\n",
       "                        <td id=\"T_f29e9128_7d47_11eb_9aab_6245b5060600row0_col1\" class=\"data row0 col1\" >2.95%</td>\n",
       "            </tr>\n",
       "            <tr>\n",
       "                        <th id=\"T_f29e9128_7d47_11eb_9aab_6245b5060600level0_row1\" class=\"row_heading level0 row1\" >10-14</th>\n",
       "                        <td id=\"T_f29e9128_7d47_11eb_9aab_6245b5060600row1_col0\" class=\"data row1 col0\" >22</td>\n",
       "                        <td id=\"T_f29e9128_7d47_11eb_9aab_6245b5060600row1_col1\" class=\"data row1 col1\" >3.82%</td>\n",
       "            </tr>\n",
       "            <tr>\n",
       "                        <th id=\"T_f29e9128_7d47_11eb_9aab_6245b5060600level0_row2\" class=\"row_heading level0 row2\" >15-19</th>\n",
       "                        <td id=\"T_f29e9128_7d47_11eb_9aab_6245b5060600row2_col0\" class=\"data row2 col0\" >107</td>\n",
       "                        <td id=\"T_f29e9128_7d47_11eb_9aab_6245b5060600row2_col1\" class=\"data row2 col1\" >18.58%</td>\n",
       "            </tr>\n",
       "            <tr>\n",
       "                        <th id=\"T_f29e9128_7d47_11eb_9aab_6245b5060600level0_row3\" class=\"row_heading level0 row3\" >20-24</th>\n",
       "                        <td id=\"T_f29e9128_7d47_11eb_9aab_6245b5060600row3_col0\" class=\"data row3 col0\" >258</td>\n",
       "                        <td id=\"T_f29e9128_7d47_11eb_9aab_6245b5060600row3_col1\" class=\"data row3 col1\" >44.79%</td>\n",
       "            </tr>\n",
       "            <tr>\n",
       "                        <th id=\"T_f29e9128_7d47_11eb_9aab_6245b5060600level0_row4\" class=\"row_heading level0 row4\" >25-29</th>\n",
       "                        <td id=\"T_f29e9128_7d47_11eb_9aab_6245b5060600row4_col0\" class=\"data row4 col0\" >77</td>\n",
       "                        <td id=\"T_f29e9128_7d47_11eb_9aab_6245b5060600row4_col1\" class=\"data row4 col1\" >13.37%</td>\n",
       "            </tr>\n",
       "            <tr>\n",
       "                        <th id=\"T_f29e9128_7d47_11eb_9aab_6245b5060600level0_row5\" class=\"row_heading level0 row5\" >30-34</th>\n",
       "                        <td id=\"T_f29e9128_7d47_11eb_9aab_6245b5060600row5_col0\" class=\"data row5 col0\" >52</td>\n",
       "                        <td id=\"T_f29e9128_7d47_11eb_9aab_6245b5060600row5_col1\" class=\"data row5 col1\" >9.03%</td>\n",
       "            </tr>\n",
       "            <tr>\n",
       "                        <th id=\"T_f29e9128_7d47_11eb_9aab_6245b5060600level0_row6\" class=\"row_heading level0 row6\" >35-39</th>\n",
       "                        <td id=\"T_f29e9128_7d47_11eb_9aab_6245b5060600row6_col0\" class=\"data row6 col0\" >31</td>\n",
       "                        <td id=\"T_f29e9128_7d47_11eb_9aab_6245b5060600row6_col1\" class=\"data row6 col1\" >5.38%</td>\n",
       "            </tr>\n",
       "            <tr>\n",
       "                        <th id=\"T_f29e9128_7d47_11eb_9aab_6245b5060600level0_row7\" class=\"row_heading level0 row7\" >40+</th>\n",
       "                        <td id=\"T_f29e9128_7d47_11eb_9aab_6245b5060600row7_col0\" class=\"data row7 col0\" >12</td>\n",
       "                        <td id=\"T_f29e9128_7d47_11eb_9aab_6245b5060600row7_col1\" class=\"data row7 col1\" >2.08%</td>\n",
       "            </tr>\n",
       "    </tbody></table>"
      ],
      "text/plain": [
       "<pandas.io.formats.style.Styler at 0x1f0226d8af0>"
      ]
     },
     "execution_count": 16,
     "metadata": {},
     "output_type": "execute_result"
    }
   ],
   "source": [
    "#bins for age groups\n",
    "age_bins = [0,9,14,19,24,29,34,39,150]\n",
    "#bin labels\n",
    "age_labels = ['<10', '10-14', '15-19', '20-24', '25-29', '30-34', '35-39', '40+']\n",
    "#slice the players into age groups \n",
    "age_sliced = pd.cut(purchase_data['Age'], age_bins, labels=age_labels, include_lowest=True)\n",
    "#add age group data to its own column\n",
    "player_df['Age Group'] = age_sliced\n",
    "#create a new DF grouped by age group\n",
    "age_df = player_df.groupby('Age Group')\n",
    "#find totals for each age group\n",
    "age_totals = age_df['Purchase ID'].count()\n",
    "#find percentage of total each age group makes up\n",
    "age_perc = age_totals / player_df['SN'].count()\n",
    "#summary DF\n",
    "age_summary = pd.DataFrame({\n",
    "    'Total Count': age_totals,\n",
    "    'Percentage of Players': age_perc\n",
    "})\n",
    "#format percents\n",
    "age_summary.style.format({\n",
    "    'Percentage of Players': '{:,.2%}'\n",
    "})"
   ]
  },
  {
   "cell_type": "markdown",
   "metadata": {},
   "source": [
    "## Purchasing Analysis (Age)"
   ]
  },
  {
   "cell_type": "markdown",
   "metadata": {},
   "source": [
    "* Bin the purchase_data data frame by age\n",
    "\n",
    "\n",
    "* Run basic calculations to obtain purchase count, avg. purchase price, avg. purchase total per person etc. in the table below\n",
    "\n",
    "\n",
    "* Create a summary data frame to hold the results\n",
    "\n",
    "\n",
    "* Optional: give the displayed data cleaner formatting\n",
    "\n",
    "\n",
    "* Display the summary data frame"
   ]
  },
  {
   "cell_type": "code",
   "execution_count": 7,
   "metadata": {},
   "outputs": [
    {
     "data": {
      "text/html": [
       "<style  type=\"text/css\" >\n",
       "</style><table id=\"T_70b6cffe_7d47_11eb_b32a_6245b5060600\" ><thead>    <tr>        <th class=\"blank level0\" ></th>        <th class=\"col_heading level0 col0\" >Purchase Count</th>        <th class=\"col_heading level0 col1\" >Average Purchase Price</th>        <th class=\"col_heading level0 col2\" >Total Purchase Value</th>        <th class=\"col_heading level0 col3\" >Avg Total Purchase per Person</th>    </tr>    <tr>        <th class=\"index_name level0\" >Age Group</th>        <th class=\"blank\" ></th>        <th class=\"blank\" ></th>        <th class=\"blank\" ></th>        <th class=\"blank\" ></th>    </tr></thead><tbody>\n",
       "                <tr>\n",
       "                        <th id=\"T_70b6cffe_7d47_11eb_b32a_6245b5060600level0_row0\" class=\"row_heading level0 row0\" ><10</th>\n",
       "                        <td id=\"T_70b6cffe_7d47_11eb_b32a_6245b5060600row0_col0\" class=\"data row0 col0\" >23</td>\n",
       "                        <td id=\"T_70b6cffe_7d47_11eb_b32a_6245b5060600row0_col1\" class=\"data row0 col1\" >$3.35</td>\n",
       "                        <td id=\"T_70b6cffe_7d47_11eb_b32a_6245b5060600row0_col2\" class=\"data row0 col2\" >$77.13</td>\n",
       "                        <td id=\"T_70b6cffe_7d47_11eb_b32a_6245b5060600row0_col3\" class=\"data row0 col3\" >$4.54</td>\n",
       "            </tr>\n",
       "            <tr>\n",
       "                        <th id=\"T_70b6cffe_7d47_11eb_b32a_6245b5060600level0_row1\" class=\"row_heading level0 row1\" >10-14</th>\n",
       "                        <td id=\"T_70b6cffe_7d47_11eb_b32a_6245b5060600row1_col0\" class=\"data row1 col0\" >28</td>\n",
       "                        <td id=\"T_70b6cffe_7d47_11eb_b32a_6245b5060600row1_col1\" class=\"data row1 col1\" >$2.96</td>\n",
       "                        <td id=\"T_70b6cffe_7d47_11eb_b32a_6245b5060600row1_col2\" class=\"data row1 col2\" >$82.78</td>\n",
       "                        <td id=\"T_70b6cffe_7d47_11eb_b32a_6245b5060600row1_col3\" class=\"data row1 col3\" >$3.76</td>\n",
       "            </tr>\n",
       "            <tr>\n",
       "                        <th id=\"T_70b6cffe_7d47_11eb_b32a_6245b5060600level0_row2\" class=\"row_heading level0 row2\" >15-19</th>\n",
       "                        <td id=\"T_70b6cffe_7d47_11eb_b32a_6245b5060600row2_col0\" class=\"data row2 col0\" >136</td>\n",
       "                        <td id=\"T_70b6cffe_7d47_11eb_b32a_6245b5060600row2_col1\" class=\"data row2 col1\" >$3.04</td>\n",
       "                        <td id=\"T_70b6cffe_7d47_11eb_b32a_6245b5060600row2_col2\" class=\"data row2 col2\" >$412.89</td>\n",
       "                        <td id=\"T_70b6cffe_7d47_11eb_b32a_6245b5060600row2_col3\" class=\"data row2 col3\" >$3.86</td>\n",
       "            </tr>\n",
       "            <tr>\n",
       "                        <th id=\"T_70b6cffe_7d47_11eb_b32a_6245b5060600level0_row3\" class=\"row_heading level0 row3\" >20-24</th>\n",
       "                        <td id=\"T_70b6cffe_7d47_11eb_b32a_6245b5060600row3_col0\" class=\"data row3 col0\" >365</td>\n",
       "                        <td id=\"T_70b6cffe_7d47_11eb_b32a_6245b5060600row3_col1\" class=\"data row3 col1\" >$3.05</td>\n",
       "                        <td id=\"T_70b6cffe_7d47_11eb_b32a_6245b5060600row3_col2\" class=\"data row3 col2\" >$1,114.06</td>\n",
       "                        <td id=\"T_70b6cffe_7d47_11eb_b32a_6245b5060600row3_col3\" class=\"data row3 col3\" >$4.32</td>\n",
       "            </tr>\n",
       "            <tr>\n",
       "                        <th id=\"T_70b6cffe_7d47_11eb_b32a_6245b5060600level0_row4\" class=\"row_heading level0 row4\" >25-29</th>\n",
       "                        <td id=\"T_70b6cffe_7d47_11eb_b32a_6245b5060600row4_col0\" class=\"data row4 col0\" >101</td>\n",
       "                        <td id=\"T_70b6cffe_7d47_11eb_b32a_6245b5060600row4_col1\" class=\"data row4 col1\" >$2.90</td>\n",
       "                        <td id=\"T_70b6cffe_7d47_11eb_b32a_6245b5060600row4_col2\" class=\"data row4 col2\" >$293.00</td>\n",
       "                        <td id=\"T_70b6cffe_7d47_11eb_b32a_6245b5060600row4_col3\" class=\"data row4 col3\" >$3.81</td>\n",
       "            </tr>\n",
       "            <tr>\n",
       "                        <th id=\"T_70b6cffe_7d47_11eb_b32a_6245b5060600level0_row5\" class=\"row_heading level0 row5\" >30-34</th>\n",
       "                        <td id=\"T_70b6cffe_7d47_11eb_b32a_6245b5060600row5_col0\" class=\"data row5 col0\" >73</td>\n",
       "                        <td id=\"T_70b6cffe_7d47_11eb_b32a_6245b5060600row5_col1\" class=\"data row5 col1\" >$2.93</td>\n",
       "                        <td id=\"T_70b6cffe_7d47_11eb_b32a_6245b5060600row5_col2\" class=\"data row5 col2\" >$214.00</td>\n",
       "                        <td id=\"T_70b6cffe_7d47_11eb_b32a_6245b5060600row5_col3\" class=\"data row5 col3\" >$4.12</td>\n",
       "            </tr>\n",
       "            <tr>\n",
       "                        <th id=\"T_70b6cffe_7d47_11eb_b32a_6245b5060600level0_row6\" class=\"row_heading level0 row6\" >35-39</th>\n",
       "                        <td id=\"T_70b6cffe_7d47_11eb_b32a_6245b5060600row6_col0\" class=\"data row6 col0\" >41</td>\n",
       "                        <td id=\"T_70b6cffe_7d47_11eb_b32a_6245b5060600row6_col1\" class=\"data row6 col1\" >$3.60</td>\n",
       "                        <td id=\"T_70b6cffe_7d47_11eb_b32a_6245b5060600row6_col2\" class=\"data row6 col2\" >$147.67</td>\n",
       "                        <td id=\"T_70b6cffe_7d47_11eb_b32a_6245b5060600row6_col3\" class=\"data row6 col3\" >$4.76</td>\n",
       "            </tr>\n",
       "            <tr>\n",
       "                        <th id=\"T_70b6cffe_7d47_11eb_b32a_6245b5060600level0_row7\" class=\"row_heading level0 row7\" >40+</th>\n",
       "                        <td id=\"T_70b6cffe_7d47_11eb_b32a_6245b5060600row7_col0\" class=\"data row7 col0\" >13</td>\n",
       "                        <td id=\"T_70b6cffe_7d47_11eb_b32a_6245b5060600row7_col1\" class=\"data row7 col1\" >$2.94</td>\n",
       "                        <td id=\"T_70b6cffe_7d47_11eb_b32a_6245b5060600row7_col2\" class=\"data row7 col2\" >$38.24</td>\n",
       "                        <td id=\"T_70b6cffe_7d47_11eb_b32a_6245b5060600row7_col3\" class=\"data row7 col3\" >$3.19</td>\n",
       "            </tr>\n",
       "    </tbody></table>"
      ],
      "text/plain": [
       "<pandas.io.formats.style.Styler at 0x1f0226d8550>"
      ]
     },
     "execution_count": 7,
     "metadata": {},
     "output_type": "execute_result"
    }
   ],
   "source": [
    "#add age group data to purchase_data and then create a new DF grouped by age group\n",
    "purchase_data['Age Group'] = age_sliced\n",
    "purchase_data_age = purchase_data.groupby('Age Group')\n",
    "#find average purchase count per age group\n",
    "age_purchase_count = purchase_data_age['Item ID'].count()\n",
    "#find the average purchase price per age group\n",
    "age_avg_price = purchase_data_age['Price'].mean()\n",
    "#find the total puchase value of each age group\n",
    "age_total_value = purchase_data_age['Price'].sum()\n",
    "#find the average total purchase per person\n",
    "age_avg_per = age_total_value / age_totals\n",
    "#create dataframe to display analysis\n",
    "purchase_analysis_age = pd.DataFrame({\n",
    "    'Purchase Count': age_purchase_count,\n",
    "    'Average Purchase Price': age_avg_price,\n",
    "    'Total Purchase Value': age_total_value,\n",
    "    'Avg Total Purchase per Person': age_avg_per\n",
    "})\n",
    "#formatting currency \n",
    "purchase_analysis_age.style.format({\n",
    "    'Average Purchase Price': \"${:,.2f}\",\n",
    "    'Total Purchase Value': \"${:,.2f}\",\n",
    "    'Avg Total Purchase per Person': \"${:,.2f}\"\n",
    "})\n"
   ]
  },
  {
   "cell_type": "markdown",
   "metadata": {},
   "source": [
    "## Top Spenders"
   ]
  },
  {
   "cell_type": "markdown",
   "metadata": {},
   "source": [
    "* Run basic calculations to obtain the results in the table below\n",
    "\n",
    "\n",
    "* Create a summary data frame to hold the results\n",
    "\n",
    "\n",
    "* Sort the total purchase value column in descending order\n",
    "\n",
    "\n",
    "* Optional: give the displayed data cleaner formatting\n",
    "\n",
    "\n",
    "* Display a preview of the summary data frame\n",
    "\n"
   ]
  },
  {
   "cell_type": "code",
   "execution_count": 11,
   "metadata": {},
   "outputs": [
    {
     "data": {
      "text/html": [
       "<style  type=\"text/css\" >\n",
       "</style><table id=\"T_86aba815_7d47_11eb_a22a_6245b5060600\" ><thead>    <tr>        <th class=\"blank level0\" ></th>        <th class=\"col_heading level0 col0\" >Purchase Count</th>        <th class=\"col_heading level0 col1\" >Average Purchase Price</th>        <th class=\"col_heading level0 col2\" >Total Purchase Value</th>    </tr>    <tr>        <th class=\"index_name level0\" >SN</th>        <th class=\"blank\" ></th>        <th class=\"blank\" ></th>        <th class=\"blank\" ></th>    </tr></thead><tbody>\n",
       "                <tr>\n",
       "                        <th id=\"T_86aba815_7d47_11eb_a22a_6245b5060600level0_row0\" class=\"row_heading level0 row0\" >Lisosia93</th>\n",
       "                        <td id=\"T_86aba815_7d47_11eb_a22a_6245b5060600row0_col0\" class=\"data row0 col0\" >5</td>\n",
       "                        <td id=\"T_86aba815_7d47_11eb_a22a_6245b5060600row0_col1\" class=\"data row0 col1\" >$3.79</td>\n",
       "                        <td id=\"T_86aba815_7d47_11eb_a22a_6245b5060600row0_col2\" class=\"data row0 col2\" >$18.96</td>\n",
       "            </tr>\n",
       "            <tr>\n",
       "                        <th id=\"T_86aba815_7d47_11eb_a22a_6245b5060600level0_row1\" class=\"row_heading level0 row1\" >Idastidru52</th>\n",
       "                        <td id=\"T_86aba815_7d47_11eb_a22a_6245b5060600row1_col0\" class=\"data row1 col0\" >4</td>\n",
       "                        <td id=\"T_86aba815_7d47_11eb_a22a_6245b5060600row1_col1\" class=\"data row1 col1\" >$3.86</td>\n",
       "                        <td id=\"T_86aba815_7d47_11eb_a22a_6245b5060600row1_col2\" class=\"data row1 col2\" >$15.45</td>\n",
       "            </tr>\n",
       "            <tr>\n",
       "                        <th id=\"T_86aba815_7d47_11eb_a22a_6245b5060600level0_row2\" class=\"row_heading level0 row2\" >Chamjask73</th>\n",
       "                        <td id=\"T_86aba815_7d47_11eb_a22a_6245b5060600row2_col0\" class=\"data row2 col0\" >3</td>\n",
       "                        <td id=\"T_86aba815_7d47_11eb_a22a_6245b5060600row2_col1\" class=\"data row2 col1\" >$4.61</td>\n",
       "                        <td id=\"T_86aba815_7d47_11eb_a22a_6245b5060600row2_col2\" class=\"data row2 col2\" >$13.83</td>\n",
       "            </tr>\n",
       "            <tr>\n",
       "                        <th id=\"T_86aba815_7d47_11eb_a22a_6245b5060600level0_row3\" class=\"row_heading level0 row3\" >Iral74</th>\n",
       "                        <td id=\"T_86aba815_7d47_11eb_a22a_6245b5060600row3_col0\" class=\"data row3 col0\" >4</td>\n",
       "                        <td id=\"T_86aba815_7d47_11eb_a22a_6245b5060600row3_col1\" class=\"data row3 col1\" >$3.40</td>\n",
       "                        <td id=\"T_86aba815_7d47_11eb_a22a_6245b5060600row3_col2\" class=\"data row3 col2\" >$13.62</td>\n",
       "            </tr>\n",
       "            <tr>\n",
       "                        <th id=\"T_86aba815_7d47_11eb_a22a_6245b5060600level0_row4\" class=\"row_heading level0 row4\" >Iskadarya95</th>\n",
       "                        <td id=\"T_86aba815_7d47_11eb_a22a_6245b5060600row4_col0\" class=\"data row4 col0\" >3</td>\n",
       "                        <td id=\"T_86aba815_7d47_11eb_a22a_6245b5060600row4_col1\" class=\"data row4 col1\" >$4.37</td>\n",
       "                        <td id=\"T_86aba815_7d47_11eb_a22a_6245b5060600row4_col2\" class=\"data row4 col2\" >$13.10</td>\n",
       "            </tr>\n",
       "    </tbody></table>"
      ],
      "text/plain": [
       "<pandas.io.formats.style.Styler at 0x1f0225bc9a0>"
      ]
     },
     "execution_count": 11,
     "metadata": {},
     "output_type": "execute_result"
    }
   ],
   "source": [
    "#create DF grouped by screen name\n",
    "grouped_df = purchase_data.groupby('SN')\n",
    "#find purchase count for each screen name\n",
    "sn_purchase_count = grouped_df['Purchase ID'].count()\n",
    "#find average purchase price of each screen name\n",
    "sn_avg_price = grouped_df['Price'].mean()\n",
    "#find total spent by each screen name\n",
    "sn_total_value = grouped_df['Price'].sum()\n",
    "\n",
    "#dataframe containing stats of top spenders\n",
    "top_spenders_df = pd.DataFrame({\n",
    "    'Purchase Count': sn_purchase_count,\n",
    "    'Average Purchase Price': sn_avg_price,\n",
    "    'Total Purchase Value': sn_total_value\n",
    "})\n",
    "#sort DF by largest total purchase value to smallest\n",
    "top_spenders_df.sort_values('Total Purchase Value', ascending=False, inplace=True)\n",
    "\n",
    "#output head with formatting\n",
    "top_spenders_df.head().style.format({\n",
    "    'Average Purchase Price': \"${:,.2f}\",\n",
    "    'Total Purchase Value': \"${:,.2f}\"\n",
    "})\n"
   ]
  },
  {
   "cell_type": "markdown",
   "metadata": {},
   "source": [
    "## Most Popular Items"
   ]
  },
  {
   "cell_type": "markdown",
   "metadata": {},
   "source": [
    "* Retrieve the Item ID, Item Name, and Item Price columns\n",
    "\n",
    "\n",
    "* Group by Item ID and Item Name. Perform calculations to obtain purchase count, average item price, and total purchase value\n",
    "\n",
    "\n",
    "* Create a summary data frame to hold the results\n",
    "\n",
    "\n",
    "* Sort the purchase count column in descending order\n",
    "\n",
    "\n",
    "* Optional: give the displayed data cleaner formatting\n",
    "\n",
    "\n",
    "* Display a preview of the summary data frame\n",
    "\n"
   ]
  },
  {
   "cell_type": "code",
   "execution_count": 14,
   "metadata": {},
   "outputs": [
    {
     "data": {
      "text/html": [
       "<style  type=\"text/css\" >\n",
       "</style><table id=\"T_d92d5607_7d47_11eb_96f1_6245b5060600\" ><thead>    <tr>        <th class=\"blank\" ></th>        <th class=\"blank level0\" ></th>        <th class=\"col_heading level0 col0\" >Purchase Count</th>        <th class=\"col_heading level0 col1\" >Item Price</th>        <th class=\"col_heading level0 col2\" >Total Purchase Value</th>    </tr>    <tr>        <th class=\"index_name level0\" >Item ID</th>        <th class=\"index_name level1\" >Item Name</th>        <th class=\"blank\" ></th>        <th class=\"blank\" ></th>        <th class=\"blank\" ></th>    </tr></thead><tbody>\n",
       "                <tr>\n",
       "                        <th id=\"T_d92d5607_7d47_11eb_96f1_6245b5060600level0_row0\" class=\"row_heading level0 row0\" >92</th>\n",
       "                        <th id=\"T_d92d5607_7d47_11eb_96f1_6245b5060600level1_row0\" class=\"row_heading level1 row0\" >Final Critic</th>\n",
       "                        <td id=\"T_d92d5607_7d47_11eb_96f1_6245b5060600row0_col0\" class=\"data row0 col0\" >13</td>\n",
       "                        <td id=\"T_d92d5607_7d47_11eb_96f1_6245b5060600row0_col1\" class=\"data row0 col1\" >$4.61</td>\n",
       "                        <td id=\"T_d92d5607_7d47_11eb_96f1_6245b5060600row0_col2\" class=\"data row0 col2\" >$59.99</td>\n",
       "            </tr>\n",
       "            <tr>\n",
       "                        <th id=\"T_d92d5607_7d47_11eb_96f1_6245b5060600level0_row1\" class=\"row_heading level0 row1\" >178</th>\n",
       "                        <th id=\"T_d92d5607_7d47_11eb_96f1_6245b5060600level1_row1\" class=\"row_heading level1 row1\" >Oathbreaker, Last Hope of the Breaking Storm</th>\n",
       "                        <td id=\"T_d92d5607_7d47_11eb_96f1_6245b5060600row1_col0\" class=\"data row1 col0\" >12</td>\n",
       "                        <td id=\"T_d92d5607_7d47_11eb_96f1_6245b5060600row1_col1\" class=\"data row1 col1\" >$4.23</td>\n",
       "                        <td id=\"T_d92d5607_7d47_11eb_96f1_6245b5060600row1_col2\" class=\"data row1 col2\" >$50.76</td>\n",
       "            </tr>\n",
       "            <tr>\n",
       "                        <th id=\"T_d92d5607_7d47_11eb_96f1_6245b5060600level0_row2\" class=\"row_heading level0 row2\" >145</th>\n",
       "                        <th id=\"T_d92d5607_7d47_11eb_96f1_6245b5060600level1_row2\" class=\"row_heading level1 row2\" >Fiery Glass Crusader</th>\n",
       "                        <td id=\"T_d92d5607_7d47_11eb_96f1_6245b5060600row2_col0\" class=\"data row2 col0\" >9</td>\n",
       "                        <td id=\"T_d92d5607_7d47_11eb_96f1_6245b5060600row2_col1\" class=\"data row2 col1\" >$4.58</td>\n",
       "                        <td id=\"T_d92d5607_7d47_11eb_96f1_6245b5060600row2_col2\" class=\"data row2 col2\" >$41.22</td>\n",
       "            </tr>\n",
       "            <tr>\n",
       "                        <th id=\"T_d92d5607_7d47_11eb_96f1_6245b5060600level0_row3\" class=\"row_heading level0 row3\" >132</th>\n",
       "                        <th id=\"T_d92d5607_7d47_11eb_96f1_6245b5060600level1_row3\" class=\"row_heading level1 row3\" >Persuasion</th>\n",
       "                        <td id=\"T_d92d5607_7d47_11eb_96f1_6245b5060600row3_col0\" class=\"data row3 col0\" >9</td>\n",
       "                        <td id=\"T_d92d5607_7d47_11eb_96f1_6245b5060600row3_col1\" class=\"data row3 col1\" >$3.22</td>\n",
       "                        <td id=\"T_d92d5607_7d47_11eb_96f1_6245b5060600row3_col2\" class=\"data row3 col2\" >$28.99</td>\n",
       "            </tr>\n",
       "            <tr>\n",
       "                        <th id=\"T_d92d5607_7d47_11eb_96f1_6245b5060600level0_row4\" class=\"row_heading level0 row4\" >108</th>\n",
       "                        <th id=\"T_d92d5607_7d47_11eb_96f1_6245b5060600level1_row4\" class=\"row_heading level1 row4\" >Extraction, Quickblade Of Trembling Hands</th>\n",
       "                        <td id=\"T_d92d5607_7d47_11eb_96f1_6245b5060600row4_col0\" class=\"data row4 col0\" >9</td>\n",
       "                        <td id=\"T_d92d5607_7d47_11eb_96f1_6245b5060600row4_col1\" class=\"data row4 col1\" >$3.53</td>\n",
       "                        <td id=\"T_d92d5607_7d47_11eb_96f1_6245b5060600row4_col2\" class=\"data row4 col2\" >$31.77</td>\n",
       "            </tr>\n",
       "    </tbody></table>"
      ],
      "text/plain": [
       "<pandas.io.formats.style.Styler at 0x1f01f237ac0>"
      ]
     },
     "execution_count": 14,
     "metadata": {},
     "output_type": "execute_result"
    }
   ],
   "source": [
    "#retrieve Item ID, Item Name, and Item Price\n",
    "items_df = purchase_data[['Item ID', 'Item Name', 'Price']]\n",
    "#group DF by Item ID, and Item Name\n",
    "items_grouped = items_df.groupby(['Item ID', 'Item Name'])\n",
    "#find number of times each item has been purchased\n",
    "item_purchase_count = items_grouped['Item ID'].count()\n",
    "#get the total purchase value of each item\n",
    "items_total_value = items_grouped['Price'].sum()\n",
    "#get item price by dividing the total purchase value by number of purchases\n",
    "items_price = items_total_value / item_purchase_count\n",
    "#DF containing stats on the most popular items\n",
    "popular_items_df = pd.DataFrame({\n",
    "    'Purchase Count': item_purchase_count,\n",
    "    'Item Price': items_price,\n",
    "    'Total Purchase Value': items_total_value\n",
    "})\n",
    "#sort DF by highest purchase count to lowest\n",
    "popular_items_df.sort_values('Purchase Count', ascending=False, inplace=True)\n",
    "#output head with formatting\n",
    "popular_items_df.head().style.format({\n",
    "    'Item Price': \"${:,.2f}\",\n",
    "    'Total Purchase Value': \"${:,.2f}\"\n",
    "})\n"
   ]
  },
  {
   "cell_type": "markdown",
   "metadata": {},
   "source": [
    "## Most Profitable Items"
   ]
  },
  {
   "cell_type": "markdown",
   "metadata": {},
   "source": [
    "* Sort the above table by total purchase value in descending order\n",
    "\n",
    "\n",
    "* Optional: give the displayed data cleaner formatting\n",
    "\n",
    "\n",
    "* Display a preview of the data frame\n",
    "\n"
   ]
  },
  {
   "cell_type": "code",
   "execution_count": 15,
   "metadata": {
    "scrolled": true
   },
   "outputs": [
    {
     "data": {
      "text/html": [
       "<style  type=\"text/css\" >\n",
       "</style><table id=\"T_da3b41b7_7d47_11eb_97ed_6245b5060600\" ><thead>    <tr>        <th class=\"blank\" ></th>        <th class=\"blank level0\" ></th>        <th class=\"col_heading level0 col0\" >Purchase Count</th>        <th class=\"col_heading level0 col1\" >Item Price</th>        <th class=\"col_heading level0 col2\" >Total Purchase Value</th>    </tr>    <tr>        <th class=\"index_name level0\" >Item ID</th>        <th class=\"index_name level1\" >Item Name</th>        <th class=\"blank\" ></th>        <th class=\"blank\" ></th>        <th class=\"blank\" ></th>    </tr></thead><tbody>\n",
       "                <tr>\n",
       "                        <th id=\"T_da3b41b7_7d47_11eb_97ed_6245b5060600level0_row0\" class=\"row_heading level0 row0\" >92</th>\n",
       "                        <th id=\"T_da3b41b7_7d47_11eb_97ed_6245b5060600level1_row0\" class=\"row_heading level1 row0\" >Final Critic</th>\n",
       "                        <td id=\"T_da3b41b7_7d47_11eb_97ed_6245b5060600row0_col0\" class=\"data row0 col0\" >13</td>\n",
       "                        <td id=\"T_da3b41b7_7d47_11eb_97ed_6245b5060600row0_col1\" class=\"data row0 col1\" >$4.61</td>\n",
       "                        <td id=\"T_da3b41b7_7d47_11eb_97ed_6245b5060600row0_col2\" class=\"data row0 col2\" >$59.99</td>\n",
       "            </tr>\n",
       "            <tr>\n",
       "                        <th id=\"T_da3b41b7_7d47_11eb_97ed_6245b5060600level0_row1\" class=\"row_heading level0 row1\" >178</th>\n",
       "                        <th id=\"T_da3b41b7_7d47_11eb_97ed_6245b5060600level1_row1\" class=\"row_heading level1 row1\" >Oathbreaker, Last Hope of the Breaking Storm</th>\n",
       "                        <td id=\"T_da3b41b7_7d47_11eb_97ed_6245b5060600row1_col0\" class=\"data row1 col0\" >12</td>\n",
       "                        <td id=\"T_da3b41b7_7d47_11eb_97ed_6245b5060600row1_col1\" class=\"data row1 col1\" >$4.23</td>\n",
       "                        <td id=\"T_da3b41b7_7d47_11eb_97ed_6245b5060600row1_col2\" class=\"data row1 col2\" >$50.76</td>\n",
       "            </tr>\n",
       "            <tr>\n",
       "                        <th id=\"T_da3b41b7_7d47_11eb_97ed_6245b5060600level0_row2\" class=\"row_heading level0 row2\" >145</th>\n",
       "                        <th id=\"T_da3b41b7_7d47_11eb_97ed_6245b5060600level1_row2\" class=\"row_heading level1 row2\" >Fiery Glass Crusader</th>\n",
       "                        <td id=\"T_da3b41b7_7d47_11eb_97ed_6245b5060600row2_col0\" class=\"data row2 col0\" >9</td>\n",
       "                        <td id=\"T_da3b41b7_7d47_11eb_97ed_6245b5060600row2_col1\" class=\"data row2 col1\" >$4.58</td>\n",
       "                        <td id=\"T_da3b41b7_7d47_11eb_97ed_6245b5060600row2_col2\" class=\"data row2 col2\" >$41.22</td>\n",
       "            </tr>\n",
       "            <tr>\n",
       "                        <th id=\"T_da3b41b7_7d47_11eb_97ed_6245b5060600level0_row3\" class=\"row_heading level0 row3\" >132</th>\n",
       "                        <th id=\"T_da3b41b7_7d47_11eb_97ed_6245b5060600level1_row3\" class=\"row_heading level1 row3\" >Persuasion</th>\n",
       "                        <td id=\"T_da3b41b7_7d47_11eb_97ed_6245b5060600row3_col0\" class=\"data row3 col0\" >9</td>\n",
       "                        <td id=\"T_da3b41b7_7d47_11eb_97ed_6245b5060600row3_col1\" class=\"data row3 col1\" >$3.22</td>\n",
       "                        <td id=\"T_da3b41b7_7d47_11eb_97ed_6245b5060600row3_col2\" class=\"data row3 col2\" >$28.99</td>\n",
       "            </tr>\n",
       "            <tr>\n",
       "                        <th id=\"T_da3b41b7_7d47_11eb_97ed_6245b5060600level0_row4\" class=\"row_heading level0 row4\" >108</th>\n",
       "                        <th id=\"T_da3b41b7_7d47_11eb_97ed_6245b5060600level1_row4\" class=\"row_heading level1 row4\" >Extraction, Quickblade Of Trembling Hands</th>\n",
       "                        <td id=\"T_da3b41b7_7d47_11eb_97ed_6245b5060600row4_col0\" class=\"data row4 col0\" >9</td>\n",
       "                        <td id=\"T_da3b41b7_7d47_11eb_97ed_6245b5060600row4_col1\" class=\"data row4 col1\" >$3.53</td>\n",
       "                        <td id=\"T_da3b41b7_7d47_11eb_97ed_6245b5060600row4_col2\" class=\"data row4 col2\" >$31.77</td>\n",
       "            </tr>\n",
       "    </tbody></table>"
      ],
      "text/plain": [
       "<pandas.io.formats.style.Styler at 0x1f021300c70>"
      ]
     },
     "execution_count": 15,
     "metadata": {},
     "output_type": "execute_result"
    }
   ],
   "source": [
    "#output head of same DF as above, as it was already sorted \n",
    "#and meets formatting conditions listed above\n",
    "popular_items_df.head().style.format({\n",
    "    'Item Price': \"${:,.2f}\",\n",
    "    'Total Purchase Value': \"${:,.2f}\"\n",
    "})"
   ]
  },
  {
   "cell_type": "code",
   "execution_count": null,
   "metadata": {},
   "outputs": [],
   "source": []
  },
  {
   "cell_type": "code",
   "execution_count": null,
   "metadata": {},
   "outputs": [],
   "source": []
  }
 ],
 "metadata": {
  "anaconda-cloud": {},
  "kernel_info": {
   "name": "python3"
  },
  "kernelspec": {
   "display_name": "Python 3",
   "language": "python",
   "name": "python3"
  },
  "language_info": {
   "codemirror_mode": {
    "name": "ipython",
    "version": 3
   },
   "file_extension": ".py",
   "mimetype": "text/x-python",
   "name": "python",
   "nbconvert_exporter": "python",
   "pygments_lexer": "ipython3",
   "version": "3.8.5"
  },
  "latex_envs": {
   "LaTeX_envs_menu_present": true,
   "autoclose": false,
   "autocomplete": true,
   "bibliofile": "biblio.bib",
   "cite_by": "apalike",
   "current_citInitial": 1,
   "eqLabelWithNumbers": true,
   "eqNumInitial": 1,
   "hotkeys": {
    "equation": "Ctrl-E",
    "itemize": "Ctrl-I"
   },
   "labels_anchors": false,
   "latex_user_defs": false,
   "report_style_numbering": false,
   "user_envs_cfg": false
  },
  "nteract": {
   "version": "0.2.0"
  }
 },
 "nbformat": 4,
 "nbformat_minor": 2
}
